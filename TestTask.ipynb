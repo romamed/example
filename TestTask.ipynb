{
 "cells": [
  {
   "cell_type": "code",
   "execution_count": 245,
   "metadata": {},
   "outputs": [
    {
     "name": "stderr",
     "output_type": "stream",
     "text": [
      "/home/lichard/anaconda3/lib/python3.6/site-packages/sklearn/utils/validation.py:475: DataConversionWarning: Data with input dtype int64 was converted to float64 by the scale function.\n",
      "  warnings.warn(msg, DataConversionWarning)\n",
      "/home/lichard/anaconda3/lib/python3.6/site-packages/ipykernel_launcher.py:40: DataConversionWarning: A column-vector y was passed when a 1d array was expected. Please change the shape of y to (n_samples, ), for example using ravel().\n"
     ]
    },
    {
     "data": {
      "image/png": "[encoded data removed]",
      "text/plain": [
       "<Figure size 432x288 with 1 Axes>"
      ]
     },
     "metadata": {},
     "output_type": "display_data"
    }
   ],
   "source": [
    "import pandas as pd\n",
    "import numpy as np\n",
    "from sklearn.neighbors import KNeighborsClassifier\n",
    "from sklearn.model_selection import KFold\n",
    "from sklearn.model_selection import cross_val_score\n",
    "from sklearn.preprocessing import scale\n",
    "\n",
    "pd.set_option(\"display.max_rows\", None)\n",
    "wData = pd.read_csv('wineData.txt', names=['Class', 'Alcohol', 'Malic acid', 'Ash', 'Alcalinity of ash', 'Magnesium', 'Total phenols', 'Flavanoids', 'Nonflavanoid phenols', 'Proanthocyanins', 'Color intensity', 'Hue', 'OD280/OD315 of diluted wines', 'Proline'])\n",
    "\n",
    "from sklearn.utils import shuffle\n",
    "wData = shuffle(wData)\n",
    "\n",
    "wClass = wData.drop(['Alcohol', 'Malic acid', 'Ash', 'Alcalinity of ash', 'Magnesium', 'Total phenols', 'Flavanoids', 'Nonflavanoid phenols', 'Proanthocyanins', 'Color intensity', 'Hue', 'OD280/OD315 of diluted wines', 'Proline'], 1)\n",
    "wData = wData.drop('Class', 1)\n",
    "\n",
    "# нормализация данных\n",
    "wData['Alcohol'] = scale(wData['Alcohol'])\n",
    "wData['Malic acid'] = scale(wData['Malic acid'])\n",
    "wData['Ash'] = scale(wData['Ash'])\n",
    "wData['Alcalinity of ash'] = scale(wData['Alcalinity of ash'])\n",
    "wData['Magnesium'] = scale(wData['Magnesium'])\n",
    "wData['Total phenols'] = scale(wData['Total phenols'])\n",
    "wData['Flavanoids'] = scale(wData['Flavanoids'])\n",
    "wData['Nonflavanoid phenols'] = scale(wData['Nonflavanoid phenols'])\n",
    "wData['Proanthocyanins'] = scale(wData['Proanthocyanins'])\n",
    "wData['Color intensity'] = scale(wData['Color intensity'])\n",
    "wData['Hue'] = scale(wData['Hue'])\n",
    "wData['OD280/OD315 of diluted wines'] = scale(wData['OD280/OD315 of diluted wines'])\n",
    "wData['Proline'] = scale(wData['Proline'])\n",
    "\n",
    "# подбираем параметр k\n",
    "j = []\n",
    "for k in range(1, 51):\n",
    "    j.append(np.mean(cross_val_score(KNeighborsClassifier(n_neighbors=k), wData, wClass['Class'], cv=kf)))\n",
    "\n",
    "# обучаем классификатор\n",
    "neigh = KNeighborsClassifier(n_neighbors=j.index(max(j)) + 1)\n",
    "count = len(wData.index)//5\n",
    "neigh.fit(wData.iloc[0:len(wData.index) - count], wClass.iloc[0:len(wData.index) - count])\n",
    "\n",
    "# H0 - 1й сорт винограда,\n",
    "# H1 - не 1й сорт,\n",
    "# O1 - ошибка 1 рода (1й сорт был классифицирован как 2й или 3й),\n",
    "# O2 - ошибка 2 рода (2й или 3й сорт классифицирован как 1й)\n",
    "g = []\n",
    "for i in range(len(wData.index) - count, len(wData.index)):\n",
    "    pred = neigh.predict(wData.iloc[[i]])[0]\n",
    "    real = wClass.iloc[i][0]\n",
    "    if real == 1 and pred != 1:\n",
    "        g.append(1)\n",
    "    elif real != 1 and pred == 1:\n",
    "        g.append(2)\n",
    "    else:\n",
    "        g.append(0)\n",
    "\n",
    "import matplotlib.pyplot as plt\n",
    "plt.plot(g)\n",
    "plt.show()\n"
   ]
  },
  {
   "cell_type": "code",
   "execution_count": null,
   "metadata": {},
   "outputs": [],
   "source": []
  }
 ],
 "metadata": {
  "kernelspec": {
   "display_name": "Python 3",
   "language": "python",
   "name": "python3"
  },
  "language_info": {
   "codemirror_mode": {
    "name": "ipython",
    "version": 3
   },
   "file_extension": ".py",
   "mimetype": "text/x-python",
   "name": "python",
   "nbconvert_exporter": "python",
   "pygments_lexer": "ipython3",
   "version": "3.6.5"
  }
 },
 "nbformat": 4,
 "nbformat_minor": 2
}
