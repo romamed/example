{
 "cells": [
  {
   "cell_type": "code",
   "execution_count": 31,
   "metadata": {},
   "outputs": [],
   "source": [
    "# in this project i use the single-layer ANN to classificate the genotype, treatment type, behavior by set of proteins\n",
    "# i use this dataset: Mice Protein Expression\n",
    "# https://www.kaggle.com/ruslankl/mice-protein-expression\n",
    "\n",
    "# at first we need to load & preprocessing data\n",
    "import numpy as np\n",
    "import pandas as pd\n",
    "\n",
    "def load(path):\n",
    "    \"\"\"load data from file\"\"\"\n",
    "    class dataStruct:\n",
    "        x: None\n",
    "        y: None\n",
    "    \n",
    "    data = dataStruct()\n",
    "    \n",
    "    data.x = pd.read_csv(path)\n",
    "    data.y = pd.read_csv(path, usecols=[81])\n",
    "    \n",
    "    return data\n",
    "\n",
    "def preprocessing(data):\n",
    "    \"\"\"data preprocessing\"\"\"\n",
    "    # delete columns: 1: Mouse ID, 79: Genotype, 80: Treatment type, 81: Behavior\n",
    "    data.x.drop(data.x.columns[[0, 78, 79, 80, 81]], axis=1, inplace=True)\n",
    "    \n",
    "    # fill cells with the Nan value by zeros\n",
    "    data.x.fillna(0, inplace=True)\n",
    "    \n",
    "    # change the type of classes: 0: c-CS-s, 1: c-CS-m, 2: c-SC-s, 3: c-SC-m, 4: t-CS-s, 5: t-CS-m, 6: t-SC-s,\n",
    "    # 7: t-SC-m\n",
    "    for i in range(0, data.y.size):\n",
    "        data.y.at[i, 'class'] = {'c-CS-s': 0, 'c-CS-m': 1, 'c-SC-s': 2, 'c-SC-m': 3, 't-CS-s': 4, \\\n",
    "                                 't-CS-m': 5, 't-SC-s': 6, 't-SC-m': 7}[data.y.at[i, 'class']]\n",
    "    \n",
    "    return data\n",
    "\n",
    "def show(data, type=0):\n",
    "    \"\"\"data display\"\"\"\n",
    "    from IPython.display import display\n",
    "    \n",
    "    if type == 1:\n",
    "        with pd.option_context(\"display.max_rows\", None, \"display.max_columns\", None):\n",
    "            display(data.x, data.y)\n",
    "    else:\n",
    "        display(data.x, data.y)\n",
    "\n",
    "data = load('Data_Cortex_Nuclear.csv')\n",
    "data = preprocessing(data)"
   ]
  },
  {
   "cell_type": "code",
   "execution_count": 35,
   "metadata": {
    "scrolled": true
   },
   "outputs": [
    {
     "data": {
      "image/png": "[encoded data removed]",
      "text/plain": [
       "<Figure size 432x288 with 1 Axes>"
      ]
     },
     "metadata": {},
     "output_type": "display_data"
    }
   ],
   "source": [
    "import numpy as np\n",
    "import pandas as pd\n",
    "import tensorflow as tf\n",
    "\n",
    "# single-layer ANN\n",
    "class LinReg:\n",
    "    \"\"\"model: linear regression, minimization method: OLS, cost function: MSE, optimization method: GD\"\"\"\n",
    "    def __init__(self, x_dim, learning_rate=0.001, random_seed=None):\n",
    "        self.x_dim = x_dim\n",
    "        self.learning_rate = learning_rate\n",
    "        self.g = tf.Graph()\n",
    "        \n",
    "        with self.g.as_default():\n",
    "            # it is nessasary to generate the same random numbers\n",
    "            # tf.set_random_seed(random_seed)\n",
    "            \n",
    "            self.build()\n",
    "            \n",
    "            # initialize all trainable variables, before training starts\n",
    "            self.init_op = tf.global_variables_initializer()\n",
    "    \n",
    "    def build(self):\n",
    "        self.x = tf.placeholder(dtype=tf.float32, shape=(None, 77), name = 'input_x')\n",
    "        self.y = tf.placeholder(dtype=tf.float32, shape=(None, 1), name = 'input_y')\n",
    "        \n",
    "        # zeros - create a tensor with all elements set to zero\n",
    "        w = tf.Variable(tf.zeros(shape=(1)), name='weight')\n",
    "        b = tf.Variable(tf.zeros(shape=(1)), name='bias')\n",
    "        \n",
    "        # squeeze - removes dimensions of size 1 from the shape of a tensor\n",
    "        self.z = tf.squeeze(w*self.x + b, name='z')\n",
    "        \n",
    "        sqr_errors = tf.square(self.y - self.z, name='sqr_errors')\n",
    "        \n",
    "        # reduce_mean - computes the mean of elements across dimensions of a tensor\n",
    "        self.mean_cost = tf.reduce_mean(sqr_errors, name='mean_cost')\n",
    "        \n",
    "        optimizer = tf.train.GradientDescentOptimizer(learning_rate=self.learning_rate, name='GradientDescent')\n",
    "        self.optimizer = optimizer.minimize(self.mean_cost)\n",
    "\n",
    "def train_linreg(sess, model, x_train, y_train, num_epochs=10):\n",
    "    # initialize variables\n",
    "    sess.run(model.init_op)\n",
    "    \n",
    "    training_costs =[]\n",
    "    \n",
    "    for i in range(num_epochs):\n",
    "        cost = sess.run([model.optimizer, model.mean_cost], feed_dict={model.x:x_train, model.y:y_train})\n",
    "        training_costs.append(cost)\n",
    "    \n",
    "    return training_costs\n",
    "\n",
    "lrModel = LinReg(x_dim=data.x.shape[1], learning_rate=0.01)\n",
    "\n",
    "sess = tf.Session(graph=lrModel.g)\n",
    "training_costs = train_linreg(sess, lrModel, data.x, data.y, num_epochs=100)\n",
    "\n",
    "\n",
    "import matplotlib.pyplot as plt\n",
    "plt.plot(range(1, len(training_costs) + 1), training_costs)\n",
    "plt.tight_layout()\n",
    "plt.xlabel('Epoch')\n",
    "plt.ylabel('Training cost')\n",
    "plt.show()"
   ]
  },
  {
   "cell_type": "code",
   "execution_count": null,
   "metadata": {},
   "outputs": [],
   "source": []
  },
  {
   "cell_type": "code",
   "execution_count": null,
   "metadata": {},
   "outputs": [],
   "source": []
  },
  {
   "cell_type": "code",
   "execution_count": null,
   "metadata": {},
   "outputs": [],
   "source": []
  }
 ],
 "metadata": {
  "kernelspec": {
   "display_name": "Python 3",
   "language": "python",
   "name": "python3"
  },
  "language_info": {
   "codemirror_mode": {
    "name": "ipython",
    "version": 3
   },
   "file_extension": ".py",
   "mimetype": "text/x-python",
   "name": "python",
   "nbconvert_exporter": "python",
   "pygments_lexer": "ipython3",
   "version": "3.6.5"
  }
 },
 "nbformat": 4,
 "nbformat_minor": 2
}
