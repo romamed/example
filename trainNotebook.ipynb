{
 "cells": [
  {
   "cell_type": "code",
   "execution_count": 2,
   "metadata": {},
   "outputs": [],
   "source": [
    "import numpy as np\n",
    "x = np.random.normal(loc=1, scale=10, size=(3,4))\n",
    "#x\n",
    "#np.sum(x, axis=1)\n",
    "#np.mean(x, axis=0)\n",
    "#np.std(x, axis=0)\n",
    "#np.nonzero(np.sum(x, axis=1) > 10)\n",
    "#np.concatenate((np.eye(3, 3, k=0), np.eye(3, 3, k=0)))"
   ]
  },
  {
   "cell_type": "code",
   "execution_count": 1,
   "metadata": {},
   "outputs": [],
   "source": [
    "import pandas as pd\n",
    "\n",
    "pd.set_option(\"display.max_rows\", None)\n",
    "data = pd.read_csv('titanic.csv', index_col='PassengerId')\n",
    "#data"
   ]
  },
  {
   "cell_type": "code",
   "execution_count": 196,
   "metadata": {
    "collapsed": true
   },
   "outputs": [],
   "source": [
    "#1st week, firstAnswer\n",
    "with open(\"firstAnswer.txt\", \"w\") as file:\n",
    "    for i in data['Sex'].value_counts().tolist():\n",
    "        print(i, file=file, end = ' ')"
   ]
  },
  {
   "cell_type": "code",
   "execution_count": 251,
   "metadata": {
    "collapsed": true
   },
   "outputs": [],
   "source": [
    "#1st week, secondAnswer\n",
    "sur = data['Survived'].value_counts()\n",
    "with open(\"secondAnswer.txt\", \"w\") as file:\n",
    "    if sur.index[0] == 1:\n",
    "        i = 0\n",
    "    else:\n",
    "        i = 1\n",
    "    print(\"%.2f\" % (100 * sur[i] / data['Survived'].count()), file=file, end = ' ')"
   ]
  },
  {
   "cell_type": "code",
   "execution_count": 264,
   "metadata": {
    "collapsed": true
   },
   "outputs": [],
   "source": [
    "#1st week, thirdAnswer\n",
    "cla = data['Pclass'].value_counts()\n",
    "with open(\"thirdAnswer.txt\", \"w\") as file:\n",
    "    for i in range(0,3):\n",
    "        if cla.index[i] == 1:\n",
    "            break\n",
    "    print(\"%.2f\" % (100 * cla[i] / data['Pclass'].count()), file=file, end = ' ')"
   ]
  },
  {
   "cell_type": "code",
   "execution_count": 318,
   "metadata": {
    "collapsed": true
   },
   "outputs": [],
   "source": [
    "#1st week, fourthAnswer\n",
    "with open(\"fourthAnswer.txt\", \"w\") as file:\n",
    "    print(\"%.2f\" % data['Age'].mean(), \"%.2f\" % data['Age'].median(), file=file, end = ' ')"
   ]
  },
  {
   "cell_type": "code",
   "execution_count": 326,
   "metadata": {
    "collapsed": true
   },
   "outputs": [],
   "source": [
    "#1st week, fifthAnswer\n",
    "with open(\"fifthAnswer.txt\", \"w\") as file:\n",
    "    print(data[['SibSp', 'Parch']].corr()['Parch'][0], file=file, end = ' ')"
   ]
  },
  {
   "cell_type": "code",
   "execution_count": 617,
   "metadata": {
    "collapsed": true
   },
   "outputs": [],
   "source": [
    "#1st week, sixthAnswer\n",
    "#подсчет не точный (Mrs - иногда распознает как имя, не учитываются разные формы одного имени)\n",
    "with open(\"sixthAnswer.txt\", \"w\") as file:\n",
    "    list = []\n",
    "    for i in data.axes[0]:\n",
    "        if data['Sex'][i] == 'female':\n",
    "            j = data['Name'][i].find('(')\n",
    "            if j > -1:\n",
    "                j += 1\n",
    "            else:\n",
    "                j = data['Name'][i].find('.') + 2\n",
    "            name = ''\n",
    "            while j < len(data['Name'][i]) and data['Name'][i][j] != ' ':\n",
    "                name += data['Name'][i][j]\n",
    "                j += 1\n",
    "            name = name.strip(')')\n",
    "            name = name.strip('\"')\n",
    "            list.append(name)\n",
    "    from collections import Counter\n",
    "    for i in Counter(list).keys():\n",
    "        if Counter(list)[i] == Counter(list)[max(Counter(list), key=Counter(list).get)]:\n",
    "            print(i, file=file, end = ' ')"
   ]
  },
  {
   "cell_type": "code",
   "execution_count": 1,
   "metadata": {
    "collapsed": true,
    "scrolled": true
   },
   "outputs": [],
   "source": [
    "#1st week, решение 6й задачи с помощью словаря бабских имен\n",
    "with open(\"femaleName.txt\", \"r\") as file:\n",
    "    i = file.read(1)\n",
    "    flag = True\n",
    "    list = []\n",
    "    name = ''\n",
    "    while i:\n",
    "        if flag:\n",
    "            if ord(i) > 96 and ord(i) < 123 or ord(i) > 64 and ord(i) < 91:\n",
    "                name += i\n",
    "            else:\n",
    "                flag = False\n",
    "                name = name.lower()\n",
    "                list.append(name)\n",
    "        else:\n",
    "            if ord(i) > 96 and ord(i) < 123 or ord(i) > 64 and ord(i) < 91:\n",
    "                flag = True\n",
    "                name = i\n",
    "        i = file.read(1)\n",
    "    #print(list)\n",
    "    \n",
    "with open(\"testtext.txt\", \"r\") as file:\n",
    "    i = file.read(1)\n",
    "    flag = True\n",
    "    name = ''\n",
    "    listNames = []\n",
    "    while i:\n",
    "        if flag:\n",
    "            if ord(i) > 96 and ord(i) < 123 or ord(i) > 64 and ord(i) < 91:\n",
    "                name += i\n",
    "            else:\n",
    "                flag = False\n",
    "                name = name.lower()\n",
    "                #print(name)\n",
    "                if list.count(name) != 0:\n",
    "                    listNames.append(name)\n",
    "        else:\n",
    "            if ord(i) > 96 and ord(i) < 123 or ord(i) > 64 and ord(i) < 91:\n",
    "                flag = True\n",
    "                name = i\n",
    "        i = file.read(1)\n",
    "    #print(listNames)\n",
    "    \n",
    "    #from collections import Counter\n",
    "    #sorted(Counter(listNames), key=Counter(listNames).get)\n",
    "    #print(Counter(listNames))"
   ]
  },
  {
   "cell_type": "code",
   "execution_count": 12,
   "metadata": {},
   "outputs": [
    {
     "name": "stdout",
     "output_type": "stream",
     "text": [
      "[0.14000522 0.30343647 0.2560461  0.30051221]\n"
     ]
    }
   ],
   "source": [
    "#1st week, задание: решающие деревья\n",
    "dataD = data[['Pclass', 'Fare', 'Age', 'Sex', 'Survived']]\n",
    "dataD = dataD.dropna()\n",
    "\n",
    "dataA = dataD[['Survived']]\n",
    "\n",
    "dataTlist = []\n",
    "for i in dataD['Sex']:\n",
    "        if i == 'female':\n",
    "            dataTlist.append(0)\n",
    "        else:\n",
    "            dataTlist.append(1)\n",
    "dataT = dataD[['Pclass', 'Fare', 'Age']]\n",
    "dataT.insert(3,'Survived',dataTlist)\n",
    "\n",
    "import numpy as np\n",
    "from sklearn.tree import DecisionTreeClassifier\n",
    "X = np.array([[1, 2], [3, 4], [5, 6]])\n",
    "y = np.array([0, 1, 0])\n",
    "clf = DecisionTreeClassifier(random_state=241)\n",
    "clf.fit(dataT, dataA)\n",
    "\n",
    "\n",
    "#from sklearn.tree import export_graphviz\n",
    "#export_graphviz(clf, feature_names=['Pclass', 'Fare', 'Age', 'Sex'], out_file = 'tree.dot', filled=True)\n",
    "#!dot -Tpng 'tree.dot' -o 'tree.png'\n",
    "\n",
    "importances = clf.feature_importances_\n",
    "#print(importances)\n",
    "#print(dataT)\n",
    "\n",
    "#test of the visualization\n",
    "#import graphviz\n",
    "#from sklearn import tree\n",
    "#dot_data = tree.export_graphviz(clf, out_file=None)\n",
    "#graph = graphviz.Source(dot_data)\n",
    "#graph.render(\"iris\")"
   ]
  },
  {
   "cell_type": "code",
   "execution_count": 158,
   "metadata": {},
   "outputs": [],
   "source": [
    "#запись в файл без добавления символа конца строки в конец файла\n",
    "#printf \"Mary\" > 6otvet.txt\n",
    "\n",
    "f = open('2week_2task.txt', 'w')\n",
    "f.write(\"1.135678391959799\")\n",
    "f.close()"
   ]
  },
  {
   "cell_type": "code",
   "execution_count": 1,
   "metadata": {},
   "outputs": [],
   "source": [
    "import pandas as pd\n",
    "import numpy as np\n",
    "import seaborn as sns\n",
    "\n",
    "pd.set_option(\"display.max_rows\", None)\n",
    "#df = pd.DataFrame({ 'A' : 1., 'B' : np.array([3] * 3), 'C' : 6.})\n",
    "#df = pd.DataFrame(np.random.randint(0, 7, (9, 4)), columns=list('ABCD'))\n",
    "#print(df)\n",
    "#df.apply(np.max, axis=1)\n",
    "#pd.crosstab(df['B'], [df['C'], df['D']])\n",
    "#data.groupby('Sex').sum().plot()"
   ]
  },
  {
   "cell_type": "code",
   "execution_count": 1,
   "metadata": {},
   "outputs": [],
   "source": [
    "#2nd week, 1st task, k ближайших соседей\n",
    "import pandas as pd\n",
    "\n",
    "pd.set_option(\"display.max_rows\", None)\n",
    "wData = pd.read_csv('wineData.txt', usecols=[1, 2, 3, 4, 5, 6, 7, 8, 9, 10, 11, 12, 13], names=['Alcohol', 'Malic acid', 'Ash', 'Alcalinity of ash', 'Magnesium', 'Total phenols', 'Flavanoids', 'Nonflavanoid phenols', 'Proanthocyanins', 'Color intensity', 'Hue', 'OD280/OD315 of diluted wines', 'Proline'])\n",
    "wClass = pd.read_csv('wineData.txt', usecols=[0], names=['1'])\n",
    "\n",
    "from sklearn.neighbors import KNeighborsClassifier\n",
    "from sklearn.model_selection import KFold\n",
    "from sklearn.model_selection import cross_val_score\n",
    "import numpy as np\n",
    "\n",
    "g = []\n",
    "kf = KFold(n_splits=5, shuffle=True, random_state=42)\n",
    "for k in range(1, 51):\n",
    "    ##for train_index, test_index in kf.split(wData):\n",
    "        #print(\"TRAIN:\", train_index, \"TEST:\", test_index)\n",
    "        \n",
    "        #neigh = KNeighborsClassifier(n_neighbors=k)\n",
    "        #print(cross_val_score(neigh.fit(wData.loc[train_index], wClass['1'].loc[train_index]), wData.loc[test_index], wClass['1'].loc[test_index], cv=kf))\n",
    "        #print(\"k=\", k)\n",
    "        \n",
    "        #print(np.mean(cross_val_score(neigh.fit(wData.loc[train_index], wClass['1'].loc[train_index]), wData.loc[test_index], wClass['1'].loc[test_index], cv=kf)))\n",
    "        #X_train, X_test = wData[train_index], wData[test_index]\n",
    "        #y_train, y_test = y[train_index], y[test_index]\n",
    "    g.append(np.mean(cross_val_score(KNeighborsClassifier(n_neighbors=k), wData, wClass['1'], cv=kf)))\n",
    "\n",
    "import matplotlib.pyplot as plt\n",
    "#plt.plot(g)\n",
    "#plt.ylabel('some numbers')\n",
    "#plt.axis([0, 50, 0, 1])\n",
    "#plt.show()\n",
    "\n",
    "from sklearn.preprocessing import scale\n",
    "wData2 = scale(wData)\n",
    "wData2\n",
    "\n",
    "j = []\n",
    "for k in range(1, 51):\n",
    "    j.append(np.mean(cross_val_score(KNeighborsClassifier(n_neighbors=k), wData2, wClass['1'], cv=kf)))\n",
    "\n",
    "#plt.plot(j)\n",
    "#plt.show()\n",
    "#j.index(max(j))"
   ]
  },
  {
   "cell_type": "code",
   "execution_count": 157,
   "metadata": {
    "scrolled": false
   },
   "outputs": [
    {
     "name": "stdout",
     "output_type": "stream",
     "text": [
      "3\n",
      "1.135678391959799\n"
     ]
    },
    {
     "data": {
      "image/png": "[encoded data removed]",
      "text/plain": [
       "<Figure size 432x288 with 1 Axes>"
      ]
     },
     "metadata": {},
     "output_type": "display_data"
    }
   ],
   "source": [
    "#2nd week, 2nd task, выбор метрики\n",
    "#неверный вопрос в задании, нужно брать не среднее из блоков, а макс\n",
    "from sklearn.datasets import load_boston\n",
    "bData = load_boston()\n",
    "\n",
    "from sklearn.preprocessing import scale\n",
    "bData.data = scale(bData.data)\n",
    "\n",
    "from sklearn.model_selection import KFold\n",
    "from sklearn.model_selection import cross_val_score\n",
    "from sklearn.neighbors import KNeighborsRegressor\n",
    "import numpy as np\n",
    "\n",
    "g = []\n",
    "j = []\n",
    "kf = KFold(n_splits=5, shuffle=True, random_state=42)\n",
    "for p in np.linspace(1, 10, num=200):\n",
    "    j.append(p)\n",
    "    #g.append(np.mean(cross_val_score(KNeighborsClassifier(n_neighbors=k).fit(wData2, wClass['1']), wData2, wClass['1'], cv=kf)))\n",
    "    #cross_val_score(KNeighborsRegressor(n_neighbors=5, weights='distance').fit(bData.data, bData.target), bData.data, bData.target, cv=kf)\n",
    "    #g.append(np.mean(cross_val_score(KNeighborsRegressor(n_neighbors=5, p=p, weights='distance'), bData.data, bData.target, scoring='neg_mean_squared_error', cv=kf)))\n",
    "    neigh = KNeighborsRegressor(n_neighbors=5, p=p, weights='distance')\n",
    "    #neigh.fit(bData.data, bData.target)\n",
    "    g.append(max(cross_val_score(neigh, bData.data, bData.target, scoring='neg_mean_squared_error', cv=kf)))\n",
    "\n",
    "#print(g.index(max(g)))\n",
    "#print(j[g.index(max(g))])\n",
    "\n",
    "\n",
    "#import matplotlib.pyplot as plt\n",
    "#plt.plot(j,g)\n",
    "#plt.ylabel('some numbers')\n",
    "#plt.axis([0, 50, 0, 1])\n",
    "#plt.show()"
   ]
  },
  {
   "cell_type": "code",
   "execution_count": 75,
   "metadata": {},
   "outputs": [
    {
     "data": {
      "image/png": "[encoded data removed]",
      "text/plain": [
       "<Figure size 432x288 with 1 Axes>"
      ]
     },
     "metadata": {},
     "output_type": "display_data"
    },
    {
     "name": "stdout",
     "output_type": "stream",
     "text": [
      "78.69645990538066\n",
      "angA = 78.69006752597979 angB = 45.0 bet = 78.90419664952016\n",
      "gam = 78.90419671686367\n"
     ]
    }
   ],
   "source": [
    "#уравнение данной плоскости: z = y*ha +x*hb\n",
    "#grad = (hb, ha)\n",
    "#A(1,0,0), B(0,1,0); ha > hb - высоты этих точек\n",
    "#alf - угол между ox и вектором в плоскости xoy в радианах\n",
    "#bet - угол между вектором в плоскости xoy и плоскостью z\n",
    "#gam - угол между градиентом и плоскостью z\n",
    "\n",
    "import numpy as np\n",
    "ha, hb = 5, 1\n",
    "list_alf, list_h, list_bet = [], [], []\n",
    "for alf in np.linspace(0.1, np.pi/2, num=1000):\n",
    "    list_alf.append(alf)\n",
    "    a = np.sin(alf)/np.sin(np.pi - np.pi/4 - alf)\n",
    "    has = a*(ha - hb)/np.sqrt(2) + hb\n",
    "    r1 = np.sin(np.pi/4)/np.sin(np.pi - np.pi/4 - alf)\n",
    "    h = 1*has/r1\n",
    "    list_h.append(h)\n",
    "    bet = np.arctan(has/r1)\n",
    "    list_bet.append(bet)\n",
    "\n",
    "import matplotlib.pyplot as plt\n",
    "plt.plot(list_alf,list_h)\n",
    "plt.ylabel('h')\n",
    "plt.xlabel('alf')\n",
    "#plt.axis([0, 50, 0, 1])\n",
    "plt.show()\n",
    "\n",
    "#вывод угла alf в градусах, при котором происходит наибольший рост функции\n",
    "print(list_alf[list_h.index(max(list_h))]*180/np.pi)\n",
    "#вывод угла bet в градусах\n",
    "print(\"angA =\", np.arctan(ha/1)*180/np.pi, \"angB =\", np.arctan(hb/1)*180/np.pi, \"bet =\", list_bet[list_h.index(max(list_h))]*180/np.pi)\n",
    "\n",
    "gam = np.arcsin(np.absolute(hb*hb + ha*ha - 1*0)/np.sqrt(hb**2 + ha**2 + (-1)**2)/np.sqrt(hb**2 + ha**2 + (0)**2))\n",
    "print(\"gam =\", gam*180/np.pi)"
   ]
  },
  {
   "cell_type": "code",
   "execution_count": null,
   "metadata": {},
   "outputs": [],
   "source": []
  },
  {
   "cell_type": "code",
   "execution_count": null,
   "metadata": {
    "scrolled": true
   },
   "outputs": [],
   "source": []
  },
  {
   "cell_type": "code",
   "execution_count": null,
   "metadata": {
    "scrolled": false
   },
   "outputs": [],
   "source": []
  },
  {
   "cell_type": "code",
   "execution_count": null,
   "metadata": {},
   "outputs": [],
   "source": []
  },
  {
   "cell_type": "code",
   "execution_count": null,
   "metadata": {},
   "outputs": [],
   "source": []
  },
  {
   "cell_type": "code",
   "execution_count": null,
   "metadata": {
    "collapsed": true
   },
   "outputs": [],
   "source": []
  }
 ],
 "metadata": {
  "kernelspec": {
   "display_name": "Python 3",
   "language": "python",
   "name": "python3"
  },
  "language_info": {
   "codemirror_mode": {
    "name": "ipython",
    "version": 3
   },
   "file_extension": ".py",
   "mimetype": "text/x-python",
   "name": "python",
   "nbconvert_exporter": "python",
   "pygments_lexer": "ipython3",
   "version": "3.6.5"
  }
 },
 "nbformat": 4,
 "nbformat_minor": 2
}
